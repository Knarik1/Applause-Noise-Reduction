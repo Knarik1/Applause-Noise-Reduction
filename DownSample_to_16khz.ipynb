{
 "cells": [
  {
   "cell_type": "code",
   "execution_count": 1,
   "metadata": {
    "colab": {},
    "colab_type": "code",
    "id": "mUEBJkyi1yFa"
   },
   "outputs": [],
   "source": [
    "from IPython.display import Audio, display\n",
    "import numpy as np\n",
    "import glob\n",
    "import os\n",
    "import subprocess\n",
    "import os.path\n",
    "from scipy.io import wavfile\n",
    "import ffmpeg"
   ]
  },
  {
   "cell_type": "code",
   "execution_count": 2,
   "metadata": {
    "colab": {
     "base_uri": "https://localhost:8080/",
     "height": 170
    },
    "colab_type": "code",
    "executionInfo": {
     "elapsed": 547,
     "status": "ok",
     "timestamp": 1585549501932,
     "user": {
      "displayName": "Knarik Mheryan",
      "photoUrl": "https://lh3.googleusercontent.com/a-/AOh14GjcV3_px38q6-sYfUXO9QpNMaZjU-5ATqd5rX_9=s64",
      "userId": "16171462321453122966"
     },
     "user_tz": -240
    },
    "id": "_VWunwrIEHOe",
    "outputId": "8bf60abf-9764-4b01-a816-6d97fa30ad3f",
    "scrolled": true
   },
   "outputs": [
    {
     "data": {
      "text/plain": [
       "['results_LSTM(2000)',\n",
       " 'models',\n",
       " 'main.py',\n",
       " 'data',\n",
       " 'data_loader.py',\n",
       " 'preprocess.py',\n",
       " 'DownSample_to_16khz.ipynb',\n",
       " '__pycache__',\n",
       " '.ipynb_checkpoints']"
      ]
     },
     "execution_count": 2,
     "metadata": {},
     "output_type": "execute_result"
    }
   ],
   "source": [
    "os.listdir(os.getcwd())"
   ]
  },
  {
   "cell_type": "code",
   "execution_count": 0,
   "metadata": {
    "colab": {
     "base_uri": "https://localhost:8080/",
     "height": 1000
    },
    "colab_type": "code",
    "executionInfo": {
     "elapsed": 132283,
     "status": "ok",
     "timestamp": 1585549001239,
     "user": {
      "displayName": "Knarik Mheryan",
      "photoUrl": "https://lh3.googleusercontent.com/a-/AOh14GjcV3_px38q6-sYfUXO9QpNMaZjU-5ATqd5rX_9=s64",
      "userId": "16171462321453122966"
     },
     "user_tz": -240
    },
    "id": "Y7ijGEZz1yFp",
    "outputId": "cf5554c9-bb33-4a87-8d25-b5b0690831ee",
    "scrolled": true
   },
   "outputs": [
    {
     "name": "stdout",
     "output_type": "stream",
     "text": [
      "/content/drive/My Drive/Applause-Noise-Reduction\n",
      "/content/drive/My Drive/Applause-Noise-Reduction/data/Songs/train/Young Griffo - Pennies\n",
      "/content/drive/My Drive/Applause-Noise-Reduction/data/Songs/train/Young Griffo - Blood To Bone\n",
      "/content/drive/My Drive/Applause-Noise-Reduction/data/Songs/train/Young Griffo - Facade\n",
      "/content/drive/My Drive/Applause-Noise-Reduction/data/Songs/train/Wall Of Death - Femme\n",
      "/content/drive/My Drive/Applause-Noise-Reduction/data/Songs/train/Voelund - Comfort Lives In Belief\n",
      "/content/drive/My Drive/Applause-Noise-Reduction/data/Songs/train/Traffic Experiment - Sirens\n",
      "/content/drive/My Drive/Applause-Noise-Reduction/data/Songs/train/Triviul - Dorothy\n",
      "/content/drive/My Drive/Applause-Noise-Reduction/data/Songs/train/Triviul - Angelsaint\n",
      "/content/drive/My Drive/Applause-Noise-Reduction/data/Songs/train/The Wrong'Uns - Rothko\n",
      "/content/drive/My Drive/Applause-Noise-Reduction/data/Songs/train/The So So Glos - Emergency\n",
      "/content/drive/My Drive/Applause-Noise-Reduction/data/Songs/train/Titanium - Haunted Age\n",
      "/content/drive/My Drive/Applause-Noise-Reduction/data/Songs/train/Traffic Experiment - Once More (With Feeling)\n",
      "/content/drive/My Drive/Applause-Noise-Reduction/data/Songs/train/Tim Taler - Stalker\n",
      "/content/drive/My Drive/Applause-Noise-Reduction/data/Songs/train/The Scarlet Brand - Les Fleurs Du Mal\n",
      "/content/drive/My Drive/Applause-Noise-Reduction/data/Songs/train/The Long Wait - Back Home To Blue\n",
      "/content/drive/My Drive/Applause-Noise-Reduction/data/Songs/train/Swinging Steaks - Lost My Way\n",
      "/content/drive/My Drive/Applause-Noise-Reduction/data/Songs/train/The Districts - Vermont\n",
      "/content/drive/My Drive/Applause-Noise-Reduction/data/Songs/train/Sweet Lights - You Let Me Down\n",
      "/content/drive/My Drive/Applause-Noise-Reduction/data/Songs/train/Strand Of Oaks - Spacestation\n",
      "/content/drive/My Drive/Applause-Noise-Reduction/data/Songs/train/St Vitus - Word Gets Around\n",
      "/content/drive/My Drive/Applause-Noise-Reduction/data/Songs/train/Spike Mullings - Mike's Sulking\n",
      "/content/drive/My Drive/Applause-Noise-Reduction/data/Songs/train/Steven Clark - Bounty\n",
      "/content/drive/My Drive/Applause-Noise-Reduction/data/Songs/train/Snowmine - Curfews\n",
      "/content/drive/My Drive/Applause-Noise-Reduction/data/Songs/train/Skelpolu - Together Alone\n",
      "/content/drive/My Drive/Applause-Noise-Reduction/data/Songs/train/Skelpolu - Human Mistakes\n",
      "/content/drive/My Drive/Applause-Noise-Reduction/data/Songs/train/Secret Mountains - High Horse\n",
      "/content/drive/My Drive/Applause-Noise-Reduction/data/Songs/train/Phre The Eon - Everybody's Falling Apart\n",
      "/content/drive/My Drive/Applause-Noise-Reduction/data/Songs/train/Port St Willow - Stay Even\n",
      "/content/drive/My Drive/Applause-Noise-Reduction/data/Songs/train/Remember December - C U Next Time\n",
      "/content/drive/My Drive/Applause-Noise-Reduction/data/Songs/train/Patrick Talbot - A Reason To Leave\n",
      "/content/drive/My Drive/Applause-Noise-Reduction/data/Songs/train/Patrick Talbot - Set Me Free\n",
      "/content/drive/My Drive/Applause-Noise-Reduction/data/Songs/train/Night Panther - Fire\n",
      "/content/drive/My Drive/Applause-Noise-Reduction/data/Songs/train/North To Alaska - All The Same\n",
      "/content/drive/My Drive/Applause-Noise-Reduction/data/Songs/train/Music Delta - Rockabilly\n",
      "/content/drive/My Drive/Applause-Noise-Reduction/data/Songs/train/Music Delta - Rock\n",
      "/content/drive/My Drive/Applause-Noise-Reduction/data/Songs/train/Music Delta - Reggae\n",
      "/content/drive/My Drive/Applause-Noise-Reduction/data/Songs/train/Music Delta - Hendrix\n",
      "/content/drive/My Drive/Applause-Noise-Reduction/data/Songs/train/Music Delta - Punk\n",
      "/content/drive/My Drive/Applause-Noise-Reduction/data/Songs/train/Music Delta - Gospel\n",
      "/content/drive/My Drive/Applause-Noise-Reduction/data/Songs/train/Music Delta - Disco\n",
      "/content/drive/My Drive/Applause-Noise-Reduction/data/Songs/train/Music Delta - Grunge\n",
      "/content/drive/My Drive/Applause-Noise-Reduction/data/Songs/train/Music Delta - Country1\n",
      "/content/drive/My Drive/Applause-Noise-Reduction/data/Songs/train/Music Delta - Country2\n",
      "/content/drive/My Drive/Applause-Noise-Reduction/data/Songs/train/Music Delta - Beatles\n",
      "/content/drive/My Drive/Applause-Noise-Reduction/data/Songs/train/Music Delta - Britpop\n",
      "/content/drive/My Drive/Applause-Noise-Reduction/data/Songs/train/Music Delta - 80s Rock\n",
      "/content/drive/My Drive/Applause-Noise-Reduction/data/Songs/train/Meaxic - You Listen\n",
      "/content/drive/My Drive/Applause-Noise-Reduction/data/Songs/train/Meaxic - Take A Step\n",
      "/content/drive/My Drive/Applause-Noise-Reduction/data/Songs/train/Matthew Entwistle - Dont You Ever\n",
      "/content/drive/My Drive/Applause-Noise-Reduction/data/Songs/train/Lushlife - Toynbee Suite\n",
      "/content/drive/My Drive/Applause-Noise-Reduction/data/Songs/train/Leaf - Wicked\n",
      "/content/drive/My Drive/Applause-Noise-Reduction/data/Songs/train/Leaf - Summerghost\n",
      "/content/drive/My Drive/Applause-Noise-Reduction/data/Songs/train/Leaf - Come Around\n",
      "/content/drive/My Drive/Applause-Noise-Reduction/data/Songs/train/Johnny Lokke - Whisper To A Scream\n",
      "/content/drive/My Drive/Applause-Noise-Reduction/data/Songs/train/Jokers, Jacks & Kings - Sea Of Leaves\n",
      "/content/drive/My Drive/Applause-Noise-Reduction/data/Songs/train/Johnny Lokke - Promises & Lies\n",
      "/content/drive/My Drive/Applause-Noise-Reduction/data/Songs/train/James May - On The Line\n",
      "/content/drive/My Drive/Applause-Noise-Reduction/data/Songs/train/Jay Menon - Through My Eyes\n",
      "/content/drive/My Drive/Applause-Noise-Reduction/data/Songs/train/James May - Dont Let Go\n",
      "/content/drive/My Drive/Applause-Noise-Reduction/data/Songs/train/James May - All Souls Moon\n",
      "/content/drive/My Drive/Applause-Noise-Reduction/data/Songs/train/James May - If You Say\n",
      "/content/drive/My Drive/Applause-Noise-Reduction/data/Songs/train/Invisible Familiars - Disturbing Wildlife\n",
      "/content/drive/My Drive/Applause-Noise-Reduction/data/Songs/train/Hop Along - Sister Cities\n",
      "/content/drive/My Drive/Applause-Noise-Reduction/data/Songs/train/Hezekiah Jones - Borrowed Heart\n",
      "/content/drive/My Drive/Applause-Noise-Reduction/data/Songs/train/Hollow Ground - Left Blind\n",
      "/content/drive/My Drive/Applause-Noise-Reduction/data/Songs/train/Helado Negro - Mitad Del Mundo\n",
      "/content/drive/My Drive/Applause-Noise-Reduction/data/Songs/train/Grants - PunchDrunk\n",
      "/content/drive/My Drive/Applause-Noise-Reduction/data/Songs/train/Fergessen - The Wind\n",
      "/content/drive/My Drive/Applause-Noise-Reduction/data/Songs/train/Flags - 54\n",
      "/content/drive/My Drive/Applause-Noise-Reduction/data/Songs/train/Giselle - Moss\n",
      "/content/drive/My Drive/Applause-Noise-Reduction/data/Songs/train/Fergessen - Back From The Start\n",
      "/content/drive/My Drive/Applause-Noise-Reduction/data/Songs/train/Faces On Film - Waiting For Ga\n",
      "/content/drive/My Drive/Applause-Noise-Reduction/data/Songs/train/Fergessen - Nos Palpitants\n",
      "/content/drive/My Drive/Applause-Noise-Reduction/data/Songs/train/Drumtracks - Ghost Bitch\n",
      "/content/drive/My Drive/Applause-Noise-Reduction/data/Songs/train/Dreamers Of The Ghetto - Heavy Love\n",
      "/content/drive/My Drive/Applause-Noise-Reduction/data/Songs/train/Dark Ride - Burning Bridges\n",
      "/content/drive/My Drive/Applause-Noise-Reduction/data/Songs/train/Cnoc An Tursa - Bannockburn\n",
      "/content/drive/My Drive/Applause-Noise-Reduction/data/Songs/train/Creepoid - OldTree\n",
      "/content/drive/My Drive/Applause-Noise-Reduction/data/Songs/train/Clara Berry And Wooldog - Waltz For My Victims\n",
      "/content/drive/My Drive/Applause-Noise-Reduction/data/Songs/train/Clara Berry And Wooldog - Stella\n",
      "/content/drive/My Drive/Applause-Noise-Reduction/data/Songs/train/Clara Berry And Wooldog - Air Traffic\n",
      "/content/drive/My Drive/Applause-Noise-Reduction/data/Songs/train/Chris Durban - Celebrate\n",
      "/content/drive/My Drive/Applause-Noise-Reduction/data/Songs/train/Celestial Shore - Die For Us\n",
      "/content/drive/My Drive/Applause-Noise-Reduction/data/Songs/train/Bill Chudziak - Children Of No-one\n",
      "/content/drive/My Drive/Applause-Noise-Reduction/data/Songs/train/Black Bloc - If You Want Success\n",
      "/content/drive/My Drive/Applause-Noise-Reduction/data/Songs/train/AvaLuna - Waterduct\n",
      "/content/drive/My Drive/Applause-Noise-Reduction/data/Songs/train/Auctioneer - Our Future Faces\n",
      "/content/drive/My Drive/Applause-Noise-Reduction/data/Songs/train/BigTroubles - Phantom\n",
      "/content/drive/My Drive/Applause-Noise-Reduction/data/Songs/train/Atlantis Bound - It Was My Fault For Waiting\n",
      "/content/drive/My Drive/Applause-Noise-Reduction/data/Songs/train/ANiMAL - Rockshow\n",
      "/content/drive/My Drive/Applause-Noise-Reduction/data/Songs/train/ANiMAL - Easy Tiger\n",
      "/content/drive/My Drive/Applause-Noise-Reduction/data/Songs/train/ANiMAL - Clinic A\n",
      "/content/drive/My Drive/Applause-Noise-Reduction/data/Songs/train/Alexander Ross - Goodbye Bolero\n",
      "/content/drive/My Drive/Applause-Noise-Reduction/data/Songs/train/Angela Thomas Wade - Milk Cow Blues\n",
      "/content/drive/My Drive/Applause-Noise-Reduction/data/Songs/train/Alexander Ross - Velvet Curtain\n",
      "/content/drive/My Drive/Applause-Noise-Reduction/data/Songs/train/Actions - One Minute Smile\n",
      "/content/drive/My Drive/Applause-Noise-Reduction/data/Songs/train/Aimee Norwich - Child\n",
      "/content/drive/My Drive/Applause-Noise-Reduction/data/Songs/train/Actions - South Of The Water\n",
      "/content/drive/My Drive/Applause-Noise-Reduction/data/Songs/train/A Classic Education - NightOwl\n",
      "/content/drive/My Drive/Applause-Noise-Reduction/data/Songs/train/Actions - Devil's Words\n"
     ]
    }
   ],
   "source": [
    "# train/test\n",
    "alias = 'train'\n",
    "\n",
    "folder = './data/Songs/' + alias\n",
    "dirs = [d for d in os.listdir(folder) if os.path.isdir(os.path.join(folder, d))]\n",
    "project_dir = os.getcwd()\n",
    "print(project_dir)\n",
    "\n",
    "for dir in dirs:\n",
    "    os.chdir(project_dir)\n",
    "    abs_p = os.path.abspath(os.path.join(folder, dir))\n",
    "    os.chdir(abs_p)\n",
    "    cwd = os.getcwd()\n",
    "    print(cwd)\n",
    "    comm = \"ffmpeg -i mixture.wav -vn -ar 16000 -ac 1 mixture16.wav\"\n",
    "    subprocess.call([comm], shell=True)\n",
    "os.chdir(project_dir)"
   ]
  },
  {
   "cell_type": "code",
   "execution_count": 0,
   "metadata": {
    "colab": {},
    "colab_type": "code",
    "id": "PLimwHiWFRvJ"
   },
   "outputs": [],
   "source": [
    "#! find ./data/Songs/ -name mixture.wav -delete"
   ]
  },
  {
   "cell_type": "code",
   "execution_count": 3,
   "metadata": {
    "colab": {
     "base_uri": "https://localhost:8080/",
     "height": 445
    },
    "colab_type": "code",
    "executionInfo": {
     "elapsed": 7143,
     "status": "ok",
     "timestamp": 1585549757404,
     "user": {
      "displayName": "Knarik Mheryan",
      "photoUrl": "https://lh3.googleusercontent.com/a-/AOh14GjcV3_px38q6-sYfUXO9QpNMaZjU-5ATqd5rX_9=s64",
      "userId": "16171462321453122966"
     },
     "user_tz": -240
    },
    "id": "LMPGJ2Gr1yF5",
    "outputId": "1b43b4ba-4f86-401e-fc83-52509f12108e"
   },
   "outputs": [
    {
     "name": "stdout",
     "output_type": "stream",
     "text": [
      "/home/student/Documents/Qnarik\n",
      "['130568__benfree__roaringcrowd.wav', '71231__handfan__clapping-03.wav', '467988__121053699__clapping-01.mp3', '425663__camo1018__clapping.mp3', '17737__thesandro__applaudissement.wav', '429149__foxzine__audience-clapping-2.wav', '32260__sagetyrtle__smallcrowd.wav', '35491__charel-sytze__applause-3.mp3', '209792__alterr__applause-mono-24bit-48khz.wav', '120210__sportygurl37__clapping.wav', '205738__samkolber__clapping.wav', '22952__acclivity__cheer.wav', '198091__littleboot__applause-two.wav', '105224__chimerical__crowd-claps.wav', '324594__jormarp__clapping-in-concert-hall.wav', '411217__theliongirl10__clapping.mp3', '209990__kellieskitchen__medium-clap.wav', '440099__processaurus__m-short-applause.wav', '429422__foxzine__audience-clapping.wav', '162764__unfa__applause-5.flac', '277021__sandermotions__applause-2.wav', '333404__jayfrosting__cheer-2.wav', '75061__recordinghopkins__applause-9.wav', '444163__cloe-king__clapping.wav', '404400__eskimoneil__clapping-variated.wav', '324892__adam-n__crowd-cheer.wav', '26807__thedapperdan__applause.wav', '458535__fynfyn__audience-applause-clapping.wav', '68698__mikaelfernstrom__handclap.wav', '135191__makosan__theatre-applause.wav', '124023__kyster__applause-big-crowd.wav', '196094__peridactyloptrix__applause-huge-thunderous.wav', '202498__xtrsounder__small-crowd-cheering-and-clapping-at-party-2.wav', '1921__rhumphries__rbh-applause-01-big.wav', '267930__anagar__clapping.wav', '32868__oniwe__smallaudiencelaughsthenclaps.wav', '365132__soundsexciting__crowd-cheering.wav', '417554__wakerone__claps-few-people.wav', '160493__bansemer__large-crowd-applause.wav', '179874__temawas__ending-bravo-applause.wav', '221568__alaskarobotics__cheering-and-clapping-crowd-1.wav', '119032__joedeshon__polite-applause-12.wav', '221567__alaskarobotics__cheering-and-clapping-crowd-2.wav', '104089__sorohanro__clapping-small-room.wav', '35748__sandyrb__crowd-noise-in-small-venue-001.wav', '461796__viktorullri__5-3-clapping.wav', '412055__citlaly__clapping.wav', '243801__xtrgamr__awww-than-applause-and-cheering.wav', '35105__m1rk0__applause-8sec-2.wav', '219450__tom-woysky__crowd-laugh.wav']\n",
      "/home/student/Documents/Qnarik/data/freesound\n",
      "ffmpeg -i 130568__benfree__roaringcrowd.wav -vn -ar 16000 -ac 1 ../Applause/130568__benfree__roaringcrowd_16.wav\n",
      "ffmpeg -i 71231__handfan__clapping-03.wav -vn -ar 16000 -ac 1 ../Applause/71231__handfan__clapping-03_16.wav\n",
      "ffmpeg -i 467988__121053699__clapping-01.mp3 -vn -ar 16000 -ac 1 ../Applause/467988__121053699__clapping-01_16.wav\n",
      "ffmpeg -i 425663__camo1018__clapping.mp3 -vn -ar 16000 -ac 1 ../Applause/425663__camo1018__clapping_16.wav\n",
      "ffmpeg -i 17737__thesandro__applaudissement.wav -vn -ar 16000 -ac 1 ../Applause/17737__thesandro__applaudissement_16.wav\n",
      "ffmpeg -i 429149__foxzine__audience-clapping-2.wav -vn -ar 16000 -ac 1 ../Applause/429149__foxzine__audience-clapping-2_16.wav\n",
      "ffmpeg -i 32260__sagetyrtle__smallcrowd.wav -vn -ar 16000 -ac 1 ../Applause/32260__sagetyrtle__smallcrowd_16.wav\n",
      "ffmpeg -i 35491__charel-sytze__applause-3.mp3 -vn -ar 16000 -ac 1 ../Applause/35491__charel-sytze__applause-3_16.wav\n",
      "ffmpeg -i 209792__alterr__applause-mono-24bit-48khz.wav -vn -ar 16000 -ac 1 ../Applause/209792__alterr__applause-mono-24bit-48khz_16.wav\n",
      "ffmpeg -i 120210__sportygurl37__clapping.wav -vn -ar 16000 -ac 1 ../Applause/120210__sportygurl37__clapping_16.wav\n",
      "ffmpeg -i 205738__samkolber__clapping.wav -vn -ar 16000 -ac 1 ../Applause/205738__samkolber__clapping_16.wav\n",
      "ffmpeg -i 22952__acclivity__cheer.wav -vn -ar 16000 -ac 1 ../Applause/22952__acclivity__cheer_16.wav\n",
      "ffmpeg -i 198091__littleboot__applause-two.wav -vn -ar 16000 -ac 1 ../Applause/198091__littleboot__applause-two_16.wav\n",
      "ffmpeg -i 105224__chimerical__crowd-claps.wav -vn -ar 16000 -ac 1 ../Applause/105224__chimerical__crowd-claps_16.wav\n",
      "ffmpeg -i 324594__jormarp__clapping-in-concert-hall.wav -vn -ar 16000 -ac 1 ../Applause/324594__jormarp__clapping-in-concert-hall_16.wav\n",
      "ffmpeg -i 411217__theliongirl10__clapping.mp3 -vn -ar 16000 -ac 1 ../Applause/411217__theliongirl10__clapping_16.wav\n",
      "ffmpeg -i 209990__kellieskitchen__medium-clap.wav -vn -ar 16000 -ac 1 ../Applause/209990__kellieskitchen__medium-clap_16.wav\n",
      "ffmpeg -i 440099__processaurus__m-short-applause.wav -vn -ar 16000 -ac 1 ../Applause/440099__processaurus__m-short-applause_16.wav\n",
      "ffmpeg -i 429422__foxzine__audience-clapping.wav -vn -ar 16000 -ac 1 ../Applause/429422__foxzine__audience-clapping_16.wav\n",
      "ffmpeg -i 162764__unfa__applause-5.flac -vn -ar 16000 -ac 1 ../Applause/162764__unfa__applause-5_16.wav\n",
      "ffmpeg -i 277021__sandermotions__applause-2.wav -vn -ar 16000 -ac 1 ../Applause/277021__sandermotions__applause-2_16.wav\n",
      "ffmpeg -i 333404__jayfrosting__cheer-2.wav -vn -ar 16000 -ac 1 ../Applause/333404__jayfrosting__cheer-2_16.wav\n",
      "ffmpeg -i 75061__recordinghopkins__applause-9.wav -vn -ar 16000 -ac 1 ../Applause/75061__recordinghopkins__applause-9_16.wav\n",
      "ffmpeg -i 444163__cloe-king__clapping.wav -vn -ar 16000 -ac 1 ../Applause/444163__cloe-king__clapping_16.wav\n",
      "ffmpeg -i 404400__eskimoneil__clapping-variated.wav -vn -ar 16000 -ac 1 ../Applause/404400__eskimoneil__clapping-variated_16.wav\n",
      "ffmpeg -i 324892__adam-n__crowd-cheer.wav -vn -ar 16000 -ac 1 ../Applause/324892__adam-n__crowd-cheer_16.wav\n",
      "ffmpeg -i 26807__thedapperdan__applause.wav -vn -ar 16000 -ac 1 ../Applause/26807__thedapperdan__applause_16.wav\n",
      "ffmpeg -i 458535__fynfyn__audience-applause-clapping.wav -vn -ar 16000 -ac 1 ../Applause/458535__fynfyn__audience-applause-clapping_16.wav\n",
      "ffmpeg -i 68698__mikaelfernstrom__handclap.wav -vn -ar 16000 -ac 1 ../Applause/68698__mikaelfernstrom__handclap_16.wav\n",
      "ffmpeg -i 135191__makosan__theatre-applause.wav -vn -ar 16000 -ac 1 ../Applause/135191__makosan__theatre-applause_16.wav\n",
      "ffmpeg -i 124023__kyster__applause-big-crowd.wav -vn -ar 16000 -ac 1 ../Applause/124023__kyster__applause-big-crowd_16.wav\n",
      "ffmpeg -i 196094__peridactyloptrix__applause-huge-thunderous.wav -vn -ar 16000 -ac 1 ../Applause/196094__peridactyloptrix__applause-huge-thunderous_16.wav\n",
      "ffmpeg -i 202498__xtrsounder__small-crowd-cheering-and-clapping-at-party-2.wav -vn -ar 16000 -ac 1 ../Applause/202498__xtrsounder__small-crowd-cheering-and-clapping-at-party-2_16.wav\n",
      "ffmpeg -i 1921__rhumphries__rbh-applause-01-big.wav -vn -ar 16000 -ac 1 ../Applause/1921__rhumphries__rbh-applause-01-big_16.wav\n",
      "ffmpeg -i 267930__anagar__clapping.wav -vn -ar 16000 -ac 1 ../Applause/267930__anagar__clapping_16.wav\n",
      "ffmpeg -i 32868__oniwe__smallaudiencelaughsthenclaps.wav -vn -ar 16000 -ac 1 ../Applause/32868__oniwe__smallaudiencelaughsthenclaps_16.wav\n",
      "ffmpeg -i 365132__soundsexciting__crowd-cheering.wav -vn -ar 16000 -ac 1 ../Applause/365132__soundsexciting__crowd-cheering_16.wav\n",
      "ffmpeg -i 417554__wakerone__claps-few-people.wav -vn -ar 16000 -ac 1 ../Applause/417554__wakerone__claps-few-people_16.wav\n",
      "ffmpeg -i 160493__bansemer__large-crowd-applause.wav -vn -ar 16000 -ac 1 ../Applause/160493__bansemer__large-crowd-applause_16.wav\n",
      "ffmpeg -i 179874__temawas__ending-bravo-applause.wav -vn -ar 16000 -ac 1 ../Applause/179874__temawas__ending-bravo-applause_16.wav\n",
      "ffmpeg -i 221568__alaskarobotics__cheering-and-clapping-crowd-1.wav -vn -ar 16000 -ac 1 ../Applause/221568__alaskarobotics__cheering-and-clapping-crowd-1_16.wav\n",
      "ffmpeg -i 119032__joedeshon__polite-applause-12.wav -vn -ar 16000 -ac 1 ../Applause/119032__joedeshon__polite-applause-12_16.wav\n",
      "ffmpeg -i 221567__alaskarobotics__cheering-and-clapping-crowd-2.wav -vn -ar 16000 -ac 1 ../Applause/221567__alaskarobotics__cheering-and-clapping-crowd-2_16.wav\n",
      "ffmpeg -i 104089__sorohanro__clapping-small-room.wav -vn -ar 16000 -ac 1 ../Applause/104089__sorohanro__clapping-small-room_16.wav\n",
      "ffmpeg -i 35748__sandyrb__crowd-noise-in-small-venue-001.wav -vn -ar 16000 -ac 1 ../Applause/35748__sandyrb__crowd-noise-in-small-venue-001_16.wav\n",
      "ffmpeg -i 461796__viktorullri__5-3-clapping.wav -vn -ar 16000 -ac 1 ../Applause/461796__viktorullri__5-3-clapping_16.wav\n",
      "ffmpeg -i 412055__citlaly__clapping.wav -vn -ar 16000 -ac 1 ../Applause/412055__citlaly__clapping_16.wav\n",
      "ffmpeg -i 243801__xtrgamr__awww-than-applause-and-cheering.wav -vn -ar 16000 -ac 1 ../Applause/243801__xtrgamr__awww-than-applause-and-cheering_16.wav\n",
      "ffmpeg -i 35105__m1rk0__applause-8sec-2.wav -vn -ar 16000 -ac 1 ../Applause/35105__m1rk0__applause-8sec-2_16.wav\n",
      "ffmpeg -i 219450__tom-woysky__crowd-laugh.wav -vn -ar 16000 -ac 1 ../Applause/219450__tom-woysky__crowd-laugh_16.wav\n"
     ]
    }
   ],
   "source": [
    "# train/test\n",
    "train_folder = './data/freesound'\n",
    "test_folder = './data/Applause_test'\n",
    "folder = train_folder\n",
    "\n",
    "files = os.listdir(folder)\n",
    "project_dir = os.getcwd()\n",
    "print(project_dir)\n",
    "print(files)\n",
    "\n",
    "abs_p = os.path.abspath(folder)\n",
    "os.chdir(abs_p)\n",
    "cwd = os.getcwd()\n",
    "print(cwd)\n",
    "for file in files:\n",
    "    file_name = file.split('.')[0]\n",
    "    file_path = '../Applause/' + file_name\n",
    "    comm = \"ffmpeg -i \" + file + \" -vn -ar 16000 -ac 1 \" + file_path + \"_16.wav\"\n",
    "    print(comm)\n",
    "    subprocess.call([comm], shell=True)\n",
    "os.chdir(project_dir)"
   ]
  },
  {
   "cell_type": "code",
   "execution_count": null,
   "metadata": {},
   "outputs": [],
   "source": []
  }
 ],
 "metadata": {
  "accelerator": "TPU",
  "colab": {
   "name": "DownSample_to_16khz.ipynb",
   "provenance": [],
   "toc_visible": true
  },
  "kernelspec": {
   "display_name": "Python 3",
   "language": "python",
   "name": "python3"
  },
  "language_info": {
   "codemirror_mode": {
    "name": "ipython",
    "version": 3
   },
   "file_extension": ".py",
   "mimetype": "text/x-python",
   "name": "python",
   "nbconvert_exporter": "python",
   "pygments_lexer": "ipython3",
   "version": "3.6.10"
  }
 },
 "nbformat": 4,
 "nbformat_minor": 1
}
